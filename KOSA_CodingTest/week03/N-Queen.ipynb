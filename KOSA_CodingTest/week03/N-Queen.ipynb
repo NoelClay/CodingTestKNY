{
  "nbformat": 4,
  "nbformat_minor": 0,
  "metadata": {
    "colab": {
      "provenance": [],
      "authorship_tag": "ABX9TyN4+e3Gc/nPCM689QdrnTqg",
      "include_colab_link": true
    },
    "kernelspec": {
      "name": "python3",
      "display_name": "Python 3"
    },
    "language_info": {
      "name": "python"
    }
  },
  "cells": [
    {
      "cell_type": "markdown",
      "metadata": {
        "id": "view-in-github",
        "colab_type": "text"
      },
      "source": [
        "<a href=\"https://colab.research.google.com/github/NoelClay/ThisIsCodingTest/blob/main/TEST.ipynb\" target=\"_parent\"><img src=\"https://colab.research.google.com/assets/colab-badge.svg\" alt=\"Open In Colab\"/></a>"
      ]
    },
    {
      "cell_type": "markdown",
      "source": [
        "nQUEEN 문제\n",
        "\n",
        "백트래킹\n",
        "\n",
        "풀이 과정\n",
        "1. 백트래킹 개념 학습 : SW-ACADEMY에서 백트래킹 강의를 보고 문제로 접근함\n",
        "2. 백트래킹 식 구현 그럼에도 시간초과가 발생\n",
        " : 시간이 오버되는 이유는 대각선 검사의 비효율성일 가능성이 크다고 느낌. 결국 해결을 못함. 답지를 봐야하는 듯\n"
      ],
      "metadata": {
        "id": "U0MMQs2uYe0R"
      }
    },
    {
      "cell_type": "code",
      "source": [
        "N = int(input())\n",
        "visiStack = []\n",
        "answer = 0\n",
        "\n",
        "def checkDiagonalCase(curI, curJ, maxNum):\n",
        "\n",
        "    leftI, rightI = curI, curI\n",
        "    leftJ, rightJ = curJ, curJ\n",
        "\n",
        "    for _ in range(max(curJ - 0, curI - 0)):\n",
        "        leftI -= 1\n",
        "        leftJ -= 1\n",
        "        for ppp in visiStack:\n",
        "            if ppp == [leftI, leftJ]:\n",
        "                return False\n",
        "\n",
        "    for _ in range(max(maxNum - curJ, curI - 0)):\n",
        "        rightI -= 1\n",
        "        rightJ += 1\n",
        "        for qqq in visiStack:\n",
        "            if qqq == [rightI, rightJ]:\n",
        "                return False\n",
        "    return True\n",
        "\n",
        "\n",
        "def checkPossible(i, j):\n",
        "    global N, answer\n",
        "    for k in visiStack:\n",
        "        ki, kj = map(int, k)\n",
        "        if i == ki or j == kj or not checkDiagonalCase(i, j, N):\n",
        "            return False\n",
        "    return True\n",
        "\n",
        "\n",
        "def recursion(v, w):\n",
        "    global N, answer\n",
        "    if checkPossible(v, w):\n",
        "        visiStack.append([v, w])\n",
        "        if v == (N - 1):\n",
        "            answer += 1\n",
        "        else:\n",
        "            for b in range(N):\n",
        "                recursion(v + 1, b)\n",
        "        visiStack.pop()\n",
        "\n",
        "\n",
        "def solution(m):\n",
        "    global visiStack, answer\n",
        "    for a in range(m):\n",
        "        recursion(0, a)\n",
        "    print(answer)\n",
        "\n",
        "solution(N)"
      ],
      "metadata": {
        "id": "UKbWN_21YZ1y"
      },
      "execution_count": null,
      "outputs": []
    }
  ]
}
