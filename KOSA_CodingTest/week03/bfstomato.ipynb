{
  "nbformat": 4,
  "nbformat_minor": 0,
  "metadata": {
    "colab": {
      "provenance": [],
      "authorship_tag": "ABX9TyNSsKcAsBq+D45sbUxaTfM0",
      "include_colab_link": true
    },
    "kernelspec": {
      "name": "python3",
      "display_name": "Python 3"
    },
    "language_info": {
      "name": "python"
    }
  },
  "cells": [
    {
      "cell_type": "markdown",
      "metadata": {
        "id": "view-in-github",
        "colab_type": "text"
      },
      "source": [
        "<a href=\"https://colab.research.google.com/github/NoelClay/ThisIsCodingTest/blob/main/KOSA_CodingTest/BFSBackTracking/bfstomato.ipynb\" target=\"_parent\"><img src=\"https://colab.research.google.com/assets/colab-badge.svg\" alt=\"Open In Colab\"/></a>"
      ]
    },
    {
      "cell_type": "markdown",
      "source": [

      ],
      "metadata": {
        "id": "U0MMQs2uYe0R"
      }
    },
    {
      "cell_type": "code",
      "source": [
        "from collections import deque\n",
        "\n",
        "def solution(M, N, grid):\n",
        "    # 방향 경우의 수 상하 좌우\n",
        "    di = [-1, 1, 0, 0]\n",
        "    dj = [0, 0, -1, 1]\n",
        "\n",
        "    # BFS용으로 큐 초기화\n",
        "    queue = deque()\n",
        "\n",
        "    # 익은 토마토의 위치를 큐에 먼저 추가해줘야함. 그래야 bfs로 전체 레벨이 돌아가니까\n",
        "    for i in range(N):\n",
        "        for j in range(M):\n",
        "            if grid[i][j] == 1:\n",
        "                queue.append((i, j))\n",
        "\n",
        "    # BFS 실행\n",
        "    while queue:\n",
        "        i, j = queue.popleft()\n",
        "        # 현재 토마토의 상하좌우 반복 0이면 1로 바꿔 추가\n",
        "        for ii in range(4):\n",
        "            curI = i + di[ii]\n",
        "            curJ = j + dj[ii]\n",
        "            #리스트 예외 아니고 + 0일 경우에만\n",
        "            if 0 <= curI < N and 0 <= curJ < M and grid[curI][curJ] == 0:\n",
        "              #전날 값을 누적. 길이값 갱신\n",
        "                grid[curI][curJ] = grid[i][j]+1\n",
        "                queue.append((curI, curJ))\n",
        "    #큐가 다 비워졌다는건 상하좌우로 가는 모든 경우의 수가 끝났다는 거\n",
        "\n",
        "    # 결과 계산\n",
        "    result = 0\n",
        "    for i in range(N):\n",
        "        for j in range(M):\n",
        "            # 만약 익지 않은 토마토가 남아있다면 불가능이므로 -1반환\n",
        "            if grid[i][j] == 0:\n",
        "                return -1\n",
        "            # 그 외의 경우, 최대 길이만 구해서 반환\n",
        "            result = max(result, grid[i][j])\n",
        "            #삼항 연산자가 안되네... result > grid[i][j] ? result : result=grid[i][j]\n",
        "\n",
        "    # 시작할 때 1로 시작했으므로 -1 해주니 맞다\n",
        "    return result-1\n",
        "\n",
        "\n",
        "#열, 행\n",
        "M, N = map(int, input().split())\n",
        "grid = [list(map(int, input().split())) for _ in range(N)]\n",
        "\n",
        "print(solution(M, N, grid))"
      ],
      "metadata": {
        "id": "UKbWN_21YZ1y",
        "colab": {
          "base_uri": "https://localhost:8080/"
        },
        "outputId": "1fc0e860-e025-4970-b8a2-db90fb24977a"
      },
      "execution_count": 5,
      "outputs": [
        {
          "output_type": "stream",
          "name": "stdout",
          "text": [
            "6 4\n",
            "0 0 0 0 0 0\n",
            "0 0 0 0 0 0\n",
            "0 0 0 0 0 0\n",
            "0 0 0 0 0 1\n",
            "8\n"
          ]
        }
      ]
    }
  ]
}
